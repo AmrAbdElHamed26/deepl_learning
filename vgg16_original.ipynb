{
  "cells": [
    {
      "cell_type": "markdown",
      "metadata": {
        "id": "9nTDPV0yCcVp"
      },
      "source": [
        "train 97 , test 65"
      ]
    },
    {
      "cell_type": "markdown",
      "metadata": {
        "id": "JjKWslL6BHvO"
      },
      "source": [
        "# **imports and functions**"
      ]
    },
    {
      "cell_type": "code",
      "execution_count": 9,
      "metadata": {
        "colab": {
          "base_uri": "https://localhost:8080/"
        },
        "id": "GyhLg3xu3B9g",
        "outputId": "cdc0a2c5-af70-4ade-86e4-34442a08f7bb"
      },
      "outputs": [
        {
          "name": "stdout",
          "output_type": "stream",
          "text": [
            "Mounted at /content/drive\n"
          ]
        }
      ],
      "source": [
        "from google.colab import drive\n",
        "drive.mount('/content/drive')"
      ]
    },
    {
      "cell_type": "code",
      "execution_count": null,
      "metadata": {},
      "outputs": [],
      "source": []
    },
    {
      "cell_type": "code",
      "execution_count": 10,
      "metadata": {
        "id": "AJa4zAn76h3i"
      },
      "outputs": [],
      "source": [
        "import glob\n",
        "from PIL import Image\n",
        "import os\n",
        "import matplotlib.pyplot as plt\n",
        "import matplotlib\n",
        "from sklearn import preprocessing\n",
        "import pandas as pd\n",
        "from skimage import color\n",
        "from skimage import io\n",
        "from sklearn.metrics import confusion_matrix\n",
        "from sklearn.neural_network import MLPClassifier\n",
        "from skimage.transform import rescale, resize, downscale_local_mean \n",
        "from sklearn.model_selection import train_test_split\n",
        "from sklearn.linear_model import LogisticRegression\n",
        "from sklearn.metrics import classification_report\n",
        "import seaborn as sns \n",
        "import matplotlib.pyplot as plt\n",
        "from time import time\n",
        "from sklearn.metrics import accuracy_score\n",
        "import math\n",
        "\n",
        "import numpy as np \n",
        "from sklearn import datasets, metrics, model_selection, svm\n",
        "from PIL import Image\n",
        "\n",
        "from sklearn.neural_network import MLPClassifier\n",
        "np.random.seed(42)\n",
        "import tensorflow as tf\n",
        "import tensorflow.keras\n",
        "from tensorflow.keras.models import Model\n",
        "from tensorflow.keras.layers import Dense, Flatten, Conv2D, MaxPooling2D , BatchNormalization , Dropout\n",
        "from skimage.color import gray2rgb\n",
        "from keras.preprocessing import image\n",
        "\n",
        "from sklearn.preprocessing import MinMaxScaler\n",
        "\n"
      ]
    },
    {
      "cell_type": "code",
      "execution_count": 11,
      "metadata": {
        "id": "JNP1t1HG6kgI"
      },
      "outputs": [],
      "source": [
        "def drawing_conf_matrix(  y_actual , y_predict ):\n",
        "    \n",
        "    print( \"Classification Report\" )\n",
        "    print ( classification_report(  y_actual , y_predict  )  )  # to represent accuacy, precision, recall and f1 score\n",
        "\n",
        "    conf_mat = confusion_matrix( y_actual,   y_predict )   # to represent confusion matrix ( TP , FP , FN , FN )\n",
        "  \n",
        "    print( \"Confusion Matrix\")\n",
        "    print( conf_mat )\n",
        "    \n",
        "    sns.heatmap( conf_mat , annot= True  , fmt = \"\" )\n",
        "    plt.ylabel('True label')\n",
        "    plt.xlabel('Predicted label')\n",
        "\n",
        "\n",
        "def readData(path):\n",
        "    dataset =[]\n",
        "    for imagge in glob.glob(path):\n",
        "\n",
        "        myImage = tf.keras.utils.load_img(imagge, target_size=(128,128))\n",
        "        # convert the image pixels to a numpy array\n",
        "        image = tf.keras.utils.img_to_array(myImage)\n",
        "        \n",
        "        \n",
        "        image = image.reshape((  image.shape[0], image.shape[1], image.shape[2] ))\n",
        "\n",
        "        from keras.applications.vgg16 import preprocess_input\n",
        "        # prepare the image for the VGG model\n",
        "        image = preprocess_input(image)\n",
        "\n",
        "        dataset.append(image)\n",
        "        \n",
        "        \n",
        "    return dataset"
      ]
    },
    {
      "cell_type": "markdown",
      "metadata": {
        "id": "6fxX0OJy8DYX"
      },
      "source": [
        "# **Read Training Data**"
      ]
    },
    {
      "cell_type": "code",
      "execution_count": 12,
      "metadata": {
        "colab": {
          "base_uri": "https://localhost:8080/"
        },
        "id": "TxAIAmDQ8Ge-",
        "outputId": "e0c04f4f-7836-4d02-9510-1885da2c7b2a"
      },
      "outputs": [
        {
          "name": "stdout",
          "output_type": "stream",
          "text": [
            "Length of training data is : 7719\n",
            "Length of labeltraining data is : 7719\n"
          ]
        }
      ],
      "source": [
        "trainingDataSet = []\n",
        "trainingLabels = []\n",
        "data1 = readData('/content/drive/MyDrive/Currency/AUG Train/1/*.*')\n",
        "data2=readData('/content/drive/MyDrive/Currency/AUG Train/2/*.*')\n",
        "data3=readData('/content/drive/MyDrive/Currency/AUG Train/3/*.*')\n",
        "data4=readData('/content/drive/MyDrive/Currency/AUG Train/4/*.*')\n",
        "data5=readData('/content/drive/MyDrive/Currency/AUG Train/5/*.*')\n",
        "data6=readData('/content/drive/MyDrive/Currency/AUG Train/6/*.*')\n",
        "data7=readData('/content/drive/MyDrive/Currency/AUG Train/7/*.*')\n",
        "\n",
        "#Training Data  \n",
        "\n",
        "\n",
        "\n",
        "allData =[data1,data2,data3,data4,data5 , data6 ,data7]\n",
        "\n",
        "number = 0 \n",
        "for i in allData:\n",
        "  for pics in i : \n",
        "\n",
        "    trainingDataSet.append(pics)\n",
        "    trainingLabels.append(number)\n",
        "\n",
        "  number+=1\n",
        "\n",
        "\n",
        "\n",
        "print(\"{}{}\".format(\"Length of training data is : \",len(trainingDataSet)))\n",
        "print(\"{}{}\".format(\"Length of labeltraining data is : \",len(trainingLabels)))\n"
      ]
    },
    {
      "cell_type": "code",
      "execution_count": 13,
      "metadata": {
        "colab": {
          "base_uri": "https://localhost:8080/"
        },
        "id": "omdIDUFTMS2s",
        "outputId": "82643cb5-2f44-472b-e9ce-7c3489b7c2bb"
      },
      "outputs": [
        {
          "name": "stdout",
          "output_type": "stream",
          "text": [
            "1110\n",
            "1112\n",
            "1059\n",
            "1110\n",
            "1109\n",
            "1109\n",
            "1110\n"
          ]
        }
      ],
      "source": [
        "for i in allData :\n",
        "  print(len(i))"
      ]
    },
    {
      "cell_type": "markdown",
      "metadata": {
        "id": "GdBTwwJ09PDK"
      },
      "source": [
        "# **Read Testing Data**"
      ]
    },
    {
      "cell_type": "code",
      "execution_count": 14,
      "metadata": {
        "colab": {
          "base_uri": "https://localhost:8080/"
        },
        "id": "PVNIqwcu9R2j",
        "outputId": "59ad62c1-7334-4e55-ec0a-7f184c8b3c49"
      },
      "outputs": [
        {
          "name": "stdout",
          "output_type": "stream",
          "text": [
            "Length of testing data is : 140\n",
            "Length of labeltesting data is : 140\n"
          ]
        }
      ],
      "source": [
        "testingDataSet = []\n",
        "testingLabels = []\n",
        "\n",
        "data1 = readData('/content/drive/MyDrive/Currency/AUG Test/1/*.*')\n",
        "data2=readData('/content/drive/MyDrive/Currency/AUG Test/2/*.*')\n",
        "data3=readData('/content/drive/MyDrive/Currency/AUG Test/3/*.*')\n",
        "data4=readData('/content/drive/MyDrive/Currency/AUG Test/4/*.*')\n",
        "data5=readData('/content/drive/MyDrive/Currency/AUG Test/5/*.*')\n",
        "data6=readData('/content/drive/MyDrive/Currency/AUG Test/6/*.*')\n",
        "data7=readData('/content/drive/MyDrive/Currency/AUG Test/7/*.*')\n",
        "\n",
        "\n",
        "\n",
        "allData =[data1,data2,data3,data4,data5 , data6 ,data7]\n",
        "\n",
        "number = 0 \n",
        "for i in allData:\n",
        "  nums=0\n",
        "  for pics in i : \n",
        "    nums+=1\n",
        "    testingDataSet.append(pics)\n",
        "    testingLabels.append(number)\n",
        "    if nums == 20 :\n",
        "      break\n",
        "\n",
        "  number+=1\n",
        "\n",
        "\n",
        "\n",
        "print(\"{}{}\".format(\"Length of testing data is : \",len(testingDataSet)))\n",
        "print(\"{}{}\".format(\"Length of labeltesting data is : \",len(testingLabels)))\n"
      ]
    },
    {
      "cell_type": "code",
      "execution_count": 15,
      "metadata": {
        "colab": {
          "base_uri": "https://localhost:8080/"
        },
        "id": "V8JGKzf09dKU",
        "outputId": "13cfeff7-fc32-422f-b496-b9c825d93949"
      },
      "outputs": [
        {
          "name": "stdout",
          "output_type": "stream",
          "text": [
            "126\n",
            "125\n",
            "126\n",
            "126\n",
            "125\n",
            "126\n",
            "126\n"
          ]
        }
      ],
      "source": [
        "for i in allData:\n",
        "  print(len(i))\n"
      ]
    },
    {
      "cell_type": "code",
      "execution_count": 15,
      "metadata": {
        "id": "CD70buI39qR3"
      },
      "outputs": [],
      "source": []
    },
    {
      "cell_type": "markdown",
      "metadata": {
        "id": "o_W7dYnD9sxR"
      },
      "source": [
        "# **Training Model**"
      ]
    },
    {
      "cell_type": "code",
      "execution_count": 15,
      "metadata": {
        "id": "6_ftT8E1CbZG"
      },
      "outputs": [],
      "source": []
    },
    {
      "cell_type": "code",
      "execution_count": 16,
      "metadata": {
        "id": "x8fhKLmz9v5u"
      },
      "outputs": [],
      "source": [
        "nClasses = 7\n",
        "# Use Keras' handy utils\n",
        "y_train_k = tensorflow.keras.utils.to_categorical(trainingLabels, num_classes=nClasses)\n",
        "y_test_k = tensorflow.keras.utils.to_categorical(testingLabels, num_classes=nClasses)\n"
      ]
    },
    {
      "cell_type": "code",
      "execution_count": 17,
      "metadata": {
        "colab": {
          "base_uri": "https://localhost:8080/"
        },
        "id": "Kp4L6lfg93tA",
        "outputId": "e9ee4fea-2964-4e1b-d0ca-c07230e8652a"
      },
      "outputs": [
        {
          "name": "stdout",
          "output_type": "stream",
          "text": [
            "Epoch 1/15\n",
            "52/52 [==============================] - ETA: 0s - loss: 1.2068 - accuracy: 0.5752\n",
            "Epoch 1: val_accuracy improved from -inf to 0.70714, saving model to best_model.h5\n",
            "52/52 [==============================] - 36s 449ms/step - loss: 1.2068 - accuracy: 0.5752 - val_loss: 1.5346 - val_accuracy: 0.7071\n",
            "Epoch 2/15\n",
            "52/52 [==============================] - ETA: 0s - loss: 0.3638 - accuracy: 0.8856\n",
            "Epoch 2: val_accuracy improved from 0.70714 to 0.80714, saving model to best_model.h5\n",
            "52/52 [==============================] - 13s 252ms/step - loss: 0.3638 - accuracy: 0.8856 - val_loss: 0.7379 - val_accuracy: 0.8071\n",
            "Epoch 3/15\n",
            "52/52 [==============================] - ETA: 0s - loss: 0.1736 - accuracy: 0.9526\n",
            "Epoch 3: val_accuracy did not improve from 0.80714\n",
            "52/52 [==============================] - 13s 255ms/step - loss: 0.1736 - accuracy: 0.9526 - val_loss: 0.6797 - val_accuracy: 0.8000\n",
            "Epoch 4/15\n",
            "52/52 [==============================] - ETA: 0s - loss: 0.1115 - accuracy: 0.9710\n",
            "Epoch 4: val_accuracy improved from 0.80714 to 0.86429, saving model to best_model.h5\n",
            "52/52 [==============================] - 14s 264ms/step - loss: 0.1115 - accuracy: 0.9710 - val_loss: 0.6278 - val_accuracy: 0.8643\n",
            "Epoch 5/15\n",
            "52/52 [==============================] - ETA: 0s - loss: 0.0777 - accuracy: 0.9810\n",
            "Epoch 5: val_accuracy did not improve from 0.86429\n",
            "52/52 [==============================] - 13s 253ms/step - loss: 0.0777 - accuracy: 0.9810 - val_loss: 0.6258 - val_accuracy: 0.8286\n",
            "Epoch 6/15\n",
            "52/52 [==============================] - ETA: 0s - loss: 0.0573 - accuracy: 0.9856\n",
            "Epoch 6: val_accuracy did not improve from 0.86429\n",
            "52/52 [==============================] - 13s 248ms/step - loss: 0.0573 - accuracy: 0.9856 - val_loss: 0.5306 - val_accuracy: 0.8571\n",
            "Epoch 7/15\n",
            "52/52 [==============================] - ETA: 0s - loss: 0.0439 - accuracy: 0.9917\n",
            "Epoch 7: val_accuracy did not improve from 0.86429\n",
            "52/52 [==============================] - 13s 249ms/step - loss: 0.0439 - accuracy: 0.9917 - val_loss: 0.5205 - val_accuracy: 0.8500\n",
            "Epoch 8/15\n",
            "52/52 [==============================] - ETA: 0s - loss: 0.0375 - accuracy: 0.9922\n",
            "Epoch 8: val_accuracy did not improve from 0.86429\n",
            "52/52 [==============================] - 13s 248ms/step - loss: 0.0375 - accuracy: 0.9922 - val_loss: 0.4804 - val_accuracy: 0.8643\n",
            "Epoch 9/15\n",
            "52/52 [==============================] - ETA: 0s - loss: 0.0303 - accuracy: 0.9948\n",
            "Epoch 9: val_accuracy did not improve from 0.86429\n",
            "52/52 [==============================] - 13s 251ms/step - loss: 0.0303 - accuracy: 0.9948 - val_loss: 0.5347 - val_accuracy: 0.8643\n",
            "Epoch 10/15\n",
            "52/52 [==============================] - ETA: 0s - loss: 0.0252 - accuracy: 0.9953\n",
            "Epoch 10: val_accuracy did not improve from 0.86429\n",
            "52/52 [==============================] - 13s 253ms/step - loss: 0.0252 - accuracy: 0.9953 - val_loss: 0.5046 - val_accuracy: 0.8643\n",
            "Epoch 11/15\n",
            "52/52 [==============================] - ETA: 0s - loss: 0.0247 - accuracy: 0.9946\n",
            "Epoch 11: val_accuracy did not improve from 0.86429\n",
            "52/52 [==============================] - 13s 255ms/step - loss: 0.0247 - accuracy: 0.9946 - val_loss: 0.5341 - val_accuracy: 0.8429\n",
            "Epoch 12/15\n",
            "52/52 [==============================] - ETA: 0s - loss: 0.0222 - accuracy: 0.9948\n",
            "Epoch 12: val_accuracy did not improve from 0.86429\n",
            "52/52 [==============================] - 13s 252ms/step - loss: 0.0222 - accuracy: 0.9948 - val_loss: 0.5033 - val_accuracy: 0.8643\n",
            "Epoch 13/15\n",
            "52/52 [==============================] - ETA: 0s - loss: 0.0168 - accuracy: 0.9966\n",
            "Epoch 13: val_accuracy did not improve from 0.86429\n",
            "52/52 [==============================] - 13s 253ms/step - loss: 0.0168 - accuracy: 0.9966 - val_loss: 0.5804 - val_accuracy: 0.8286\n",
            "Epoch 14/15\n",
            "52/52 [==============================] - ETA: 0s - loss: 0.0190 - accuracy: 0.9957\n",
            "Epoch 14: val_accuracy did not improve from 0.86429\n",
            "52/52 [==============================] - 13s 252ms/step - loss: 0.0190 - accuracy: 0.9957 - val_loss: 0.5953 - val_accuracy: 0.8500\n",
            "Epoch 15/15\n",
            "52/52 [==============================] - ETA: 0s - loss: 0.0181 - accuracy: 0.9955\n",
            "Epoch 15: val_accuracy did not improve from 0.86429\n",
            "52/52 [==============================] - 13s 251ms/step - loss: 0.0181 - accuracy: 0.9955 - val_loss: 0.5288 - val_accuracy: 0.8500\n"
          ]
        }
      ],
      "source": [
        "from tensorflow.keras.applications import VGG16\n",
        "\n",
        "\n",
        "#from keras.layers.normalization import BatchNormalization\n",
        "\n",
        "\n",
        "vgg_model2 = VGG16(weights='imagenet',\n",
        "                  include_top=False,\n",
        "                  input_shape=(128, 128, 3) )\n",
        " \n",
        "    \n",
        "\n",
        "\n",
        "\n",
        "\n",
        "for layer in vgg_model2.layers:\n",
        "    layer.trainable = False\n",
        "\n",
        "# We will have to use the functional API    \n",
        "\n",
        "# last layers output\n",
        "x = vgg_model2.layers[-1].output\n",
        "x= Conv2D( 64 , ( 5 , 5), padding=\"same\", activation=\"relu\")(x)   # Adding a convolution layer with 32 filter of size 3*3\n",
        "\n",
        "x=BatchNormalization( )(x)\n",
        "x = Dropout(.6, noise_shape=None, seed=None)(x)\n",
        "x=BatchNormalization( )(x)\n",
        "x = Dropout(.4, noise_shape=None, seed=None)(x)\n",
        "x=BatchNormalization( )(x)\n",
        "\n",
        "# Flatten as before\n",
        "x=BatchNormalization( )(x)\n",
        "x = Dropout(.5, noise_shape=None, seed=None)(x)\n",
        "x=BatchNormalization( )(x)\n",
        "x = Flatten()(x)\n",
        "x = Dense(7, activation='softmax')(x)\n",
        "vgg_model_transfer = Model(inputs=vgg_model2.input, outputs=x )\n",
        "\n",
        "\n",
        "\n",
        "\n",
        "\n",
        "\n",
        "nEpochs = 15\n",
        "\n",
        "trainingDataSet = np.array(trainingDataSet)\n",
        "testingDataSet = np.array(testingDataSet)\n",
        "\n",
        "#sgd = tensorflow.keras.optimizers.SGD(learning_rate=0.0002)\n",
        "\n",
        "vgg_model_transfer.compile(loss='categorical_crossentropy', \n",
        "                           optimizer='adam', \n",
        "                           metrics=['accuracy'])\n",
        "\n",
        "\n",
        "from keras.callbacks import EarlyStopping\n",
        "from keras.callbacks import ModelCheckpoint\n",
        "\n",
        "es = EarlyStopping(monitor='val_loss', mode='min', verbose=1, patience=200)\n",
        "mc = ModelCheckpoint('best_model.h5', monitor='val_accuracy', mode='max', verbose=1, save_best_only=True)\n",
        "es2 = EarlyStopping(monitor='val_accuracy', mode='max', verbose=1, patience=200)\n",
        "\n",
        "\n",
        "history = vgg_model_transfer.fit(trainingDataSet, y_train_k, epochs=nEpochs, verbose=1,batch_size=150, \n",
        "                                 validation_data=(testingDataSet, y_test_k) , callbacks=[es, mc,es2])"
      ]
    },
    {
      "cell_type": "code",
      "execution_count": 18,
      "metadata": {
        "colab": {
          "base_uri": "https://localhost:8080/"
        },
        "id": "1V2Bp8Nl-PJF",
        "outputId": "39ec8ea7-ecc4-4e8e-a2b7-f2d914cd28ae"
      },
      "outputs": [
        {
          "name": "stdout",
          "output_type": "stream",
          "text": [
            "5/5 [==============================] - 4s 364ms/step\n",
            "242/242 [==============================] - 11s 45ms/step\n"
          ]
        }
      ],
      "source": [
        "testingPrediction =  vgg_model_transfer.predict(testingDataSet)\n",
        "trainingPrediction = vgg_model_transfer.predict(trainingDataSet)"
      ]
    },
    {
      "cell_type": "code",
      "execution_count": 19,
      "metadata": {
        "id": "RffHosRe-QT6"
      },
      "outputs": [],
      "source": [
        "\n",
        "testingPrediction = testingPrediction.argmax(axis=-1)\n",
        "trainingPrediction = trainingPrediction.argmax(axis = -1 )"
      ]
    },
    {
      "cell_type": "code",
      "execution_count": 20,
      "metadata": {
        "colab": {
          "base_uri": "https://localhost:8080/",
          "height": 678
        },
        "id": "sxtrN9kd-Qak",
        "outputId": "8768177e-f418-4bfd-86f9-4f5acf232b05"
      },
      "outputs": [
        {
          "name": "stdout",
          "output_type": "stream",
          "text": [
            "Classification Report\n",
            "              precision    recall  f1-score   support\n",
            "\n",
            "           0       1.00      1.00      1.00      1110\n",
            "           1       1.00      1.00      1.00      1112\n",
            "           2       1.00      1.00      1.00      1059\n",
            "           3       1.00      1.00      1.00      1110\n",
            "           4       1.00      1.00      1.00      1109\n",
            "           5       1.00      1.00      1.00      1109\n",
            "           6       1.00      1.00      1.00      1110\n",
            "\n",
            "    accuracy                           1.00      7719\n",
            "   macro avg       1.00      1.00      1.00      7719\n",
            "weighted avg       1.00      1.00      1.00      7719\n",
            "\n",
            "Confusion Matrix\n",
            "[[1110    0    0    0    0    0    0]\n",
            " [   0 1112    0    0    0    0    0]\n",
            " [   0    0 1059    0    0    0    0]\n",
            " [   0    0    0 1110    0    0    0]\n",
            " [   0    0    0    0 1109    0    0]\n",
            " [   0    0    0    0    0 1109    0]\n",
            " [   0    0    0    0    0    0 1110]]\n"
          ]
        },
        {
          "data": {
            "image/png": "[encoded data removed]",
            "text/plain": [
              "<Figure size 432x288 with 2 Axes>"
            ]
          },
          "metadata": {
            "needs_background": "light"
          },
          "output_type": "display_data"
        }
      ],
      "source": [
        "drawing_conf_matrix(   trainingLabels, trainingPrediction  )"
      ]
    },
    {
      "cell_type": "code",
      "execution_count": 21,
      "metadata": {
        "colab": {
          "base_uri": "https://localhost:8080/",
          "height": 682
        },
        "id": "xQbCSKWP-YRL",
        "outputId": "2aed410a-ad5f-4638-fc9d-6c5bef88e07d"
      },
      "outputs": [
        {
          "name": "stdout",
          "output_type": "stream",
          "text": [
            "Classification Report\n",
            "              precision    recall  f1-score   support\n",
            "\n",
            "           0       0.75      0.90      0.82        20\n",
            "           1       0.77      1.00      0.87        20\n",
            "           2       0.94      0.85      0.89        20\n",
            "           3       1.00      0.70      0.82        20\n",
            "           4       0.76      0.95      0.84        20\n",
            "           5       0.94      0.75      0.83        20\n",
            "           6       0.94      0.80      0.86        20\n",
            "\n",
            "    accuracy                           0.85       140\n",
            "   macro avg       0.87      0.85      0.85       140\n",
            "weighted avg       0.87      0.85      0.85       140\n",
            "\n",
            "Confusion Matrix\n",
            "[[18  0  0  0  2  0  0]\n",
            " [ 0 20  0  0  0  0  0]\n",
            " [ 1  0 17  0  1  0  1]\n",
            " [ 3  1  0 14  1  1  0]\n",
            " [ 1  0  0  0 19  0  0]\n",
            " [ 1  2  0  0  2 15  0]\n",
            " [ 0  3  1  0  0  0 16]]\n"
          ]
        },
        {
          "data": {
            "image/png": "[encoded data removed]",
            "text/plain": [
              "<Figure size 432x288 with 2 Axes>"
            ]
          },
          "metadata": {
            "needs_background": "light"
          },
          "output_type": "display_data"
        }
      ],
      "source": [
        "drawing_conf_matrix(   testingLabels, testingPrediction  )"
      ]
    },
    {
      "cell_type": "code",
      "execution_count": 22,
      "metadata": {
        "colab": {
          "base_uri": "https://localhost:8080/",
          "height": 295
        },
        "id": "DD-SDx09-YR-",
        "outputId": "b1235724-06fb-49d6-ca42-c031963f95d1"
      },
      "outputs": [
        {
          "data": {
            "image/png": "[encoded data removed]",
            "text/plain": [
              "<Figure size 432x288 with 1 Axes>"
            ]
          },
          "metadata": {
            "needs_background": "light"
          },
          "output_type": "display_data"
        }
      ],
      "source": [
        "# dictionary keys seems to have changed in version 2\n",
        "k = ''\n",
        "if 'accuracy' in history.history :\n",
        "    k = 'accuracy'    \n",
        "\n",
        "if 'acc' in history.history :\n",
        "    k = 'acc'\n",
        "    \n",
        "if k != '' :    \n",
        "    plt.plot(history.history[k])\n",
        "    plt.plot(history.history['val_'+k])\n",
        "    plt.title('Model Accuracy')\n",
        "    plt.ylabel('Accuracy')\n",
        "    plt.xlabel('Epoch')\n",
        "    plt.ylim([0, 1]) \n",
        "\n",
        "    plt.legend(['train', 'test'], loc='upper left')\n",
        "    plt.show()\n"
      ]
    },
    {
      "cell_type": "code",
      "execution_count": 23,
      "metadata": {
        "colab": {
          "base_uri": "https://localhost:8080/",
          "height": 295
        },
        "id": "MOXp37mH-YVm",
        "outputId": "871bb2b7-e6cd-4a31-bcf9-a3e1306f73bd"
      },
      "outputs": [
        {
          "data": {
            "image/png": "[encoded data removed]",
            "text/plain": [
              "<Figure size 432x288 with 1 Axes>"
            ]
          },
          "metadata": {
            "needs_background": "light"
          },
          "output_type": "display_data"
        }
      ],
      "source": [
        "plt.plot(history.history['loss'])\n",
        "plt.plot(history.history['val_loss'])\n",
        "plt.title('Model loss')\n",
        "plt.ylabel('Loss')\n",
        "plt.xlabel('Epoch')\n",
        "plt.ylim([0, 1]) \n",
        "\n",
        "plt.legend(['train', 'test'], loc='upper left')\n",
        "plt.show()\n",
        "\n"
      ]
    },
    {
      "cell_type": "code",
      "execution_count": 23,
      "metadata": {
        "id": "FQc77SZJ-YWf"
      },
      "outputs": [],
      "source": []
    },
    {
      "cell_type": "code",
      "execution_count": 23,
      "metadata": {
        "id": "u4DYxB749tAw"
      },
      "outputs": [],
      "source": []
    },
    {
      "cell_type": "markdown",
      "metadata": {
        "id": "kjV2njhN9yjj"
      },
      "source": [
        "***Model with original data***"
      ]
    },
    {
      "cell_type": "markdown",
      "metadata": {
        "id": "xKxV2BZj-Qgl"
      },
      "source": [
        "# read Original data"
      ]
    },
    {
      "cell_type": "code",
      "execution_count": 24,
      "metadata": {
        "colab": {
          "base_uri": "https://localhost:8080/"
        },
        "id": "deW20JLV92Pv",
        "outputId": "1af0485f-528a-42bc-84e7-45a0927cb923"
      },
      "outputs": [
        {
          "name": "stdout",
          "output_type": "stream",
          "text": [
            "Length of training data is : 153\n",
            "Length of labeltraining data is : 153\n"
          ]
        }
      ],
      "source": [
        "trainingDataSet = []\n",
        "trainingLabels = []\n",
        " \n",
        "path1Hundrednote = \"/content/drive/MyDrive/Currency/Train/1Hundrednote/*.*\"\n",
        "path2Hundrednote = \"/content/drive/MyDrive/Currency/Train/2Hundrednote/*.*\"\n",
        "path2Thousandnote = \"/content/drive/MyDrive/Currency/Train/2Thousandnote/*.*\"\n",
        "path5Hundrednote = \"/content/drive/MyDrive/Currency/Train/5Hundrednote/*.*\"\n",
        "pathFiftynote = \"/content/drive/MyDrive/Currency/Train/Fiftynote/*.*\"\n",
        "pathTennote = \"/content/drive/MyDrive/Currency/Train/Tennote/*.*\"\n",
        "pathTwentynote = \"/content/drive/MyDrive/Currency/Train/Twentynote/*.*\"\n",
        "\n",
        "\n",
        "#Training Data  \n",
        "trainingdata1 = readData(path1Hundrednote)\n",
        "trainingdata2 = readData(path2Hundrednote)\n",
        "trainingdata3 = readData(path2Thousandnote)\n",
        "trainingdata4 = readData(path5Hundrednote)\n",
        "trainingdata5 = readData(pathFiftynote)\n",
        "trainingdata6 = readData(pathTennote)\n",
        "trainingdata7 = readData(pathTwentynote)\n",
        "\n",
        "\n",
        "\n",
        "\n",
        "allData =[trainingdata1,trainingdata2,trainingdata3,trainingdata4,trainingdata5 ,trainingdata6 , trainingdata7 ]\n",
        "\n",
        "number = 0 \n",
        "for i in allData:\n",
        "  for pics in i : \n",
        "\n",
        "    trainingDataSet.append(pics)\n",
        "    trainingLabels.append(number)\n",
        "\n",
        "  number+=1\n",
        "\n",
        "print(\"{}{}\".format(\"Length of training data is : \",len(trainingDataSet)))\n",
        "print(\"{}{}\".format(\"Length of labeltraining data is : \",len(trainingLabels)))\n",
        "\n"
      ]
    },
    {
      "cell_type": "code",
      "execution_count": 25,
      "metadata": {
        "colab": {
          "base_uri": "https://localhost:8080/"
        },
        "id": "JKPpXo-9-Yrf",
        "outputId": "669fce8b-a8ee-478b-8f48-27ea8f07451b"
      },
      "outputs": [
        {
          "name": "stderr",
          "output_type": "stream",
          "text": [
            "/usr/local/lib/python3.8/dist-packages/PIL/TiffImagePlugin.py:788: UserWarning: Corrupt EXIF data.  Expecting to read 4 bytes but only got 0. \n",
            "  warnings.warn(str(msg))\n"
          ]
        },
        {
          "name": "stdout",
          "output_type": "stream",
          "text": [
            "Length of training data is : 42\n",
            "Length of labeltraining data is : 42\n"
          ]
        }
      ],
      "source": [
        "testingDataSet = []\n",
        "testingLabels = []\n",
        "\n",
        "\n",
        "path1Hundrednote = \"/content/drive/MyDrive/Currency/Test/1Hundrednote/*.*\"\n",
        "path2Hundrednote = \"/content/drive/MyDrive/Currency/Test/2Hundrednote/*.*\"\n",
        "path2Thousandnote = \"/content/drive/MyDrive/Currency/Test/2Thousandnote/*.*\"\n",
        "path5Hundrednote = \"/content/drive/MyDrive/Currency/Test/5Hundrednote/*.*\"\n",
        "pathFiftynote = \"/content/drive/MyDrive/Currency/Test/Fiftynote/*.*\"\n",
        "pathTennote = \"/content/drive/MyDrive/Currency/Test/Tennote/*.*\"\n",
        "pathTwentynote = \"/content/drive/MyDrive/Currency/Test/Twentynote/*.*\"\n",
        "\n",
        "\n",
        "\n",
        "#Training Data  \n",
        "trainingdata1 = readData(path1Hundrednote)\n",
        "trainingdata2 = readData(path2Hundrednote)\n",
        "trainingdata3 = readData(path2Thousandnote)\n",
        "trainingdata4 = readData(path5Hundrednote)\n",
        "trainingdata5 = readData(pathFiftynote)\n",
        "trainingdata6 = readData(pathTennote)\n",
        "trainingdata7 = readData(pathTwentynote)\n",
        "\n",
        "\n",
        "\n",
        "\n",
        "allData =[trainingdata1,trainingdata2,trainingdata3,trainingdata4,trainingdata5 ,trainingdata6 , trainingdata7 ]\n",
        "\n",
        "number = 0 \n",
        "for i in allData:\n",
        "  for pics in i : \n",
        "\n",
        "    testingDataSet.append(pics)\n",
        "    testingLabels.append(number)\n",
        "\n",
        "  number+=1\n",
        "\n",
        "print(\"{}{}\".format(\"Length of training data is : \",len(testingDataSet)))\n",
        "print(\"{}{}\".format(\"Length of labeltraining data is : \",len(testingLabels)))\n",
        "\n"
      ]
    },
    {
      "cell_type": "code",
      "execution_count": 26,
      "metadata": {
        "id": "cSZWc6ng-Zmk"
      },
      "outputs": [],
      "source": [
        "nClasses = 7\n",
        "# Use Keras' handy utils\n",
        "y_train_k = tensorflow.keras.utils.to_categorical(trainingLabels, num_classes=nClasses)\n",
        "y_test_k = tensorflow.keras.utils.to_categorical(testingLabels, num_classes=nClasses)\n"
      ]
    },
    {
      "cell_type": "code",
      "execution_count": 27,
      "metadata": {
        "colab": {
          "base_uri": "https://localhost:8080/"
        },
        "id": "aLTQXRWa-e5k",
        "outputId": "7f3c8c3a-899e-44f9-d244-eefc1eb1aa40"
      },
      "outputs": [
        {
          "name": "stdout",
          "output_type": "stream",
          "text": [
            "Epoch 1/30\n",
            "2/2 [==============================] - 11s 6s/step - loss: 2.7210 - accuracy: 0.1634 - val_loss: 6.3201 - val_accuracy: 0.2857\n",
            "Epoch 2/30\n",
            "2/2 [==============================] - 0s 177ms/step - loss: 2.2780 - accuracy: 0.2418 - val_loss: 4.3307 - val_accuracy: 0.4524\n",
            "Epoch 3/30\n",
            "2/2 [==============================] - 0s 177ms/step - loss: 2.0016 - accuracy: 0.3529 - val_loss: 3.6083 - val_accuracy: 0.4762\n",
            "Epoch 4/30\n",
            "2/2 [==============================] - 0s 173ms/step - loss: 1.5723 - accuracy: 0.4444 - val_loss: 2.9915 - val_accuracy: 0.5000\n",
            "Epoch 5/30\n",
            "2/2 [==============================] - 0s 168ms/step - loss: 1.3985 - accuracy: 0.4967 - val_loss: 2.5214 - val_accuracy: 0.5238\n",
            "Epoch 6/30\n",
            "2/2 [==============================] - 0s 168ms/step - loss: 1.4145 - accuracy: 0.4902 - val_loss: 2.2192 - val_accuracy: 0.5476\n",
            "Epoch 7/30\n",
            "2/2 [==============================] - 0s 172ms/step - loss: 1.2361 - accuracy: 0.5882 - val_loss: 1.9756 - val_accuracy: 0.5714\n",
            "Epoch 8/30\n",
            "2/2 [==============================] - 0s 170ms/step - loss: 1.0447 - accuracy: 0.6536 - val_loss: 1.7872 - val_accuracy: 0.5952\n",
            "Epoch 9/30\n",
            "2/2 [==============================] - 0s 168ms/step - loss: 1.0913 - accuracy: 0.5817 - val_loss: 1.6782 - val_accuracy: 0.5952\n",
            "Epoch 10/30\n",
            "2/2 [==============================] - 0s 170ms/step - loss: 1.0870 - accuracy: 0.6209 - val_loss: 1.5837 - val_accuracy: 0.5952\n",
            "Epoch 11/30\n",
            "2/2 [==============================] - 0s 178ms/step - loss: 0.8620 - accuracy: 0.6863 - val_loss: 1.4778 - val_accuracy: 0.5952\n",
            "Epoch 12/30\n",
            "2/2 [==============================] - 0s 172ms/step - loss: 0.8962 - accuracy: 0.7059 - val_loss: 1.3606 - val_accuracy: 0.6190\n",
            "Epoch 13/30\n",
            "2/2 [==============================] - 0s 171ms/step - loss: 0.7163 - accuracy: 0.7386 - val_loss: 1.2450 - val_accuracy: 0.6667\n",
            "Epoch 14/30\n",
            "2/2 [==============================] - 0s 168ms/step - loss: 0.7411 - accuracy: 0.7516 - val_loss: 1.1416 - val_accuracy: 0.7143\n",
            "Epoch 15/30\n",
            "2/2 [==============================] - 0s 171ms/step - loss: 0.6108 - accuracy: 0.7778 - val_loss: 1.0723 - val_accuracy: 0.7143\n",
            "Epoch 16/30\n",
            "2/2 [==============================] - 0s 169ms/step - loss: 0.5704 - accuracy: 0.8039 - val_loss: 1.0144 - val_accuracy: 0.7381\n",
            "Epoch 17/30\n",
            "2/2 [==============================] - 0s 174ms/step - loss: 0.5586 - accuracy: 0.8105 - val_loss: 0.9739 - val_accuracy: 0.7143\n",
            "Epoch 18/30\n",
            "2/2 [==============================] - 0s 169ms/step - loss: 0.5125 - accuracy: 0.8039 - val_loss: 0.9347 - val_accuracy: 0.7143\n",
            "Epoch 19/30\n",
            "2/2 [==============================] - 0s 179ms/step - loss: 0.4512 - accuracy: 0.8366 - val_loss: 0.8984 - val_accuracy: 0.7143\n",
            "Epoch 20/30\n",
            "2/2 [==============================] - 0s 172ms/step - loss: 0.3715 - accuracy: 0.9020 - val_loss: 0.8622 - val_accuracy: 0.7381\n",
            "Epoch 21/30\n",
            "2/2 [==============================] - 0s 171ms/step - loss: 0.3761 - accuracy: 0.8954 - val_loss: 0.8325 - val_accuracy: 0.7619\n",
            "Epoch 22/30\n",
            "2/2 [==============================] - 0s 171ms/step - loss: 0.4136 - accuracy: 0.8562 - val_loss: 0.8057 - val_accuracy: 0.7381\n",
            "Epoch 23/30\n",
            "2/2 [==============================] - 0s 172ms/step - loss: 0.3330 - accuracy: 0.9020 - val_loss: 0.7810 - val_accuracy: 0.7381\n",
            "Epoch 24/30\n",
            "2/2 [==============================] - 0s 176ms/step - loss: 0.3043 - accuracy: 0.9412 - val_loss: 0.7519 - val_accuracy: 0.7381\n",
            "Epoch 25/30\n",
            "2/2 [==============================] - 0s 170ms/step - loss: 0.3923 - accuracy: 0.8954 - val_loss: 0.7293 - val_accuracy: 0.7381\n",
            "Epoch 26/30\n",
            "2/2 [==============================] - 0s 171ms/step - loss: 0.3823 - accuracy: 0.8562 - val_loss: 0.7160 - val_accuracy: 0.7381\n",
            "Epoch 27/30\n",
            "2/2 [==============================] - 0s 175ms/step - loss: 0.3494 - accuracy: 0.9020 - val_loss: 0.7029 - val_accuracy: 0.6905\n",
            "Epoch 28/30\n",
            "2/2 [==============================] - 0s 172ms/step - loss: 0.2997 - accuracy: 0.9085 - val_loss: 0.6889 - val_accuracy: 0.6905\n",
            "Epoch 29/30\n",
            "2/2 [==============================] - 0s 173ms/step - loss: 0.2666 - accuracy: 0.9281 - val_loss: 0.6762 - val_accuracy: 0.7143\n",
            "Epoch 30/30\n",
            "2/2 [==============================] - 0s 172ms/step - loss: 0.2467 - accuracy: 0.9477 - val_loss: 0.6691 - val_accuracy: 0.6905\n"
          ]
        }
      ],
      "source": [
        "from tensorflow.keras.applications import VGG16\n",
        "\n",
        "\n",
        "#from keras.layers.normalization import BatchNormalization\n",
        "\n",
        "\n",
        "vgg_model2 = VGG16(weights='imagenet',\n",
        "                  include_top=False,\n",
        "                  input_shape=(128, 128, 3) )\n",
        " \n",
        "    \n",
        "\n",
        "\n",
        "\n",
        "\n",
        "for layer in vgg_model2.layers:\n",
        "    layer.trainable = False\n",
        "\n",
        "# We will have to use the functional API    \n",
        "\n",
        "# last layers output\n",
        "x = vgg_model2.layers[-1].output\n",
        "x= Conv2D( 64 , ( 5 , 5), padding=\"same\", activation=\"relu\")(x)   # Adding a convolution layer with 32 filter of size 3*3\n",
        "\n",
        "x=BatchNormalization( )(x)\n",
        "x = Dropout(.6, noise_shape=None, seed=None)(x)\n",
        "x=BatchNormalization( )(x)\n",
        "x = Dropout(.4, noise_shape=None, seed=None)(x)\n",
        "x=BatchNormalization( )(x)\n",
        "\n",
        "# Flatten as before\n",
        "x = Flatten()(x)\n",
        "x=BatchNormalization( )(x)\n",
        "x = Dropout(.5, noise_shape=None, seed=None)(x)\n",
        "x=BatchNormalization( )(x)\n",
        "x = Dropout(.3, noise_shape=None, seed=None)(x)\n",
        "\n",
        "x = Dense(7, activation='softmax')(x)\n",
        "vgg_model_transfer = Model(inputs=vgg_model2.input, outputs=x )\n",
        "\n",
        "\n",
        "\n",
        "\n",
        "\n",
        "\n",
        "nEpochs = 30\n",
        "\n",
        "trainingDataSet = np.array(trainingDataSet)\n",
        "testingDataSet = np.array(testingDataSet)\n",
        "\n",
        "sgd = tensorflow.keras.optimizers.SGD(learning_rate=0.0002)\n",
        "\n",
        "vgg_model_transfer.compile(loss='categorical_crossentropy', \n",
        "                           optimizer='adam', \n",
        "                           metrics=['accuracy'])\n",
        "\n",
        "\n",
        "\n",
        "\n",
        "\n",
        "history = vgg_model_transfer.fit(trainingDataSet, y_train_k, epochs=nEpochs, verbose=1,batch_size=100, \n",
        "                                 validation_data=(testingDataSet, y_test_k) )"
      ]
    },
    {
      "cell_type": "code",
      "execution_count": 28,
      "metadata": {
        "colab": {
          "base_uri": "https://localhost:8080/"
        },
        "id": "GmuCmZMH-jC5",
        "outputId": "2f3d5ce8-cd6c-42e9-c48e-8137469fa129"
      },
      "outputs": [
        {
          "name": "stdout",
          "output_type": "stream",
          "text": [
            "2/2 [==============================] - 1s 1s/step\n",
            "5/5 [==============================] - 2s 599ms/step\n"
          ]
        }
      ],
      "source": [
        "testingPrediction =  vgg_model_transfer.predict(testingDataSet)\n",
        "trainingPrediction = vgg_model_transfer.predict(trainingDataSet)"
      ]
    },
    {
      "cell_type": "code",
      "execution_count": 29,
      "metadata": {
        "id": "ZHuGami1-nFK"
      },
      "outputs": [],
      "source": [
        "\n",
        "\n",
        "testingPrediction = testingPrediction.argmax(axis=-1)\n",
        "trainingPrediction = trainingPrediction.argmax(axis = -1 )"
      ]
    },
    {
      "cell_type": "code",
      "execution_count": 30,
      "metadata": {
        "colab": {
          "base_uri": "https://localhost:8080/",
          "height": 678
        },
        "id": "2FMhabqK-ojd",
        "outputId": "958eeee1-ae0c-4955-909e-1c3db475de80"
      },
      "outputs": [
        {
          "name": "stdout",
          "output_type": "stream",
          "text": [
            "Classification Report\n",
            "              precision    recall  f1-score   support\n",
            "\n",
            "           0       1.00      1.00      1.00        22\n",
            "           1       1.00      1.00      1.00        22\n",
            "           2       1.00      1.00      1.00        21\n",
            "           3       1.00      1.00      1.00        22\n",
            "           4       1.00      1.00      1.00        22\n",
            "           5       1.00      1.00      1.00        22\n",
            "           6       1.00      1.00      1.00        22\n",
            "\n",
            "    accuracy                           1.00       153\n",
            "   macro avg       1.00      1.00      1.00       153\n",
            "weighted avg       1.00      1.00      1.00       153\n",
            "\n",
            "Confusion Matrix\n",
            "[[22  0  0  0  0  0  0]\n",
            " [ 0 22  0  0  0  0  0]\n",
            " [ 0  0 21  0  0  0  0]\n",
            " [ 0  0  0 22  0  0  0]\n",
            " [ 0  0  0  0 22  0  0]\n",
            " [ 0  0  0  0  0 22  0]\n",
            " [ 0  0  0  0  0  0 22]]\n"
          ]
        },
        {
          "data": {
            "image/png": "[encoded data removed]",
            "text/plain": [
              "<Figure size 432x288 with 2 Axes>"
            ]
          },
          "metadata": {
            "needs_background": "light"
          },
          "output_type": "display_data"
        }
      ],
      "source": [
        "drawing_conf_matrix(   trainingLabels, trainingPrediction  )"
      ]
    },
    {
      "cell_type": "code",
      "execution_count": 31,
      "metadata": {
        "colab": {
          "base_uri": "https://localhost:8080/",
          "height": 682
        },
        "id": "KMqO33ca-qWs",
        "outputId": "2da3d587-d5ec-4d78-a282-ff7ace32cc5c"
      },
      "outputs": [
        {
          "name": "stdout",
          "output_type": "stream",
          "text": [
            "Classification Report\n",
            "              precision    recall  f1-score   support\n",
            "\n",
            "           0       0.43      0.50      0.46         6\n",
            "           1       0.75      1.00      0.86         6\n",
            "           2       1.00      0.50      0.67         6\n",
            "           3       1.00      0.83      0.91         6\n",
            "           4       0.57      0.67      0.62         6\n",
            "           5       1.00      0.67      0.80         6\n",
            "           6       0.50      0.67      0.57         6\n",
            "\n",
            "    accuracy                           0.69        42\n",
            "   macro avg       0.75      0.69      0.70        42\n",
            "weighted avg       0.75      0.69      0.70        42\n",
            "\n",
            "Confusion Matrix\n",
            "[[3 0 0 0 1 0 2]\n",
            " [0 6 0 0 0 0 0]\n",
            " [0 1 3 0 1 0 1]\n",
            " [1 0 0 5 0 0 0]\n",
            " [1 0 0 0 4 0 1]\n",
            " [2 0 0 0 0 4 0]\n",
            " [0 1 0 0 1 0 4]]\n"
          ]
        },
        {
          "data": {
            "image/png": "[encoded data removed]",
            "text/plain": [
              "<Figure size 432x288 with 2 Axes>"
            ]
          },
          "metadata": {
            "needs_background": "light"
          },
          "output_type": "display_data"
        }
      ],
      "source": [
        "drawing_conf_matrix(   testingLabels, testingPrediction  )"
      ]
    },
    {
      "cell_type": "code",
      "execution_count": 32,
      "metadata": {
        "colab": {
          "base_uri": "https://localhost:8080/",
          "height": 295
        },
        "id": "3zn1lJ4Z-sQY",
        "outputId": "5cb145f4-2dfc-41c7-bc93-ec57c311e8d2"
      },
      "outputs": [
        {
          "data": {
            "image/png": "[encoded data removed]",
            "text/plain": [
              "<Figure size 432x288 with 1 Axes>"
            ]
          },
          "metadata": {
            "needs_background": "light"
          },
          "output_type": "display_data"
        }
      ],
      "source": [
        "# dictionary keys seems to have changed in version 2\n",
        "k = ''\n",
        "if 'accuracy' in history.history :\n",
        "    k = 'accuracy'    \n",
        "\n",
        "if 'acc' in history.history :\n",
        "    k = 'acc'\n",
        "    \n",
        "if k != '' :    \n",
        "    plt.plot(history.history[k])\n",
        "    plt.plot(history.history['val_'+k])\n",
        "    plt.title('Model Accuracy')\n",
        "    plt.ylim([0, 1]) \n",
        "\n",
        "    plt.ylabel('Accuracy')\n",
        "    plt.xlabel('Epoch')\n",
        "    plt.legend(['train', 'test'], loc='upper left')\n",
        "    plt.show()\n"
      ]
    },
    {
      "cell_type": "code",
      "execution_count": 33,
      "metadata": {
        "colab": {
          "base_uri": "https://localhost:8080/",
          "height": 295
        },
        "id": "1MxGHdB0-urA",
        "outputId": "4583cfaa-3d27-4491-bdea-2f89fad1326e"
      },
      "outputs": [
        {
          "data": {
            "image/png": "[encoded data removed]",
            "text/plain": [
              "<Figure size 432x288 with 1 Axes>"
            ]
          },
          "metadata": {
            "needs_background": "light"
          },
          "output_type": "display_data"
        }
      ],
      "source": [
        "plt.plot(history.history['loss'])\n",
        "plt.plot(history.history['val_loss'])\n",
        "plt.title('Model loss')\n",
        "plt.ylabel('Loss')\n",
        "plt.xlabel('Epoch')\n",
        "plt.ylim([0, 1]) \n",
        "\n",
        "plt.legend(['train', 'test'], loc='upper left')\n",
        "plt.show()\n",
        "\n"
      ]
    },
    {
      "cell_type": "code",
      "execution_count": 33,
      "metadata": {
        "id": "xx4b-R4--wlL"
      },
      "outputs": [],
      "source": [
        "\n"
      ]
    },
    {
      "cell_type": "code",
      "execution_count": 33,
      "metadata": {
        "id": "qjqUbsa5A3sU"
      },
      "outputs": [],
      "source": []
    },
    {
      "cell_type": "code",
      "execution_count": 33,
      "metadata": {
        "id": "847d71U_ZiTF"
      },
      "outputs": [],
      "source": []
    }
  ],
  "metadata": {
    "accelerator": "GPU",
    "colab": {
      "provenance": []
    },
    "gpuClass": "standard",
    "kernelspec": {
      "display_name": "Python 3 (ipykernel)",
      "language": "python",
      "name": "python3"
    },
    "language_info": {
      "codemirror_mode": {
        "name": "ipython",
        "version": 3
      },
      "file_extension": ".py",
      "mimetype": "text/x-python",
      "name": "python",
      "nbconvert_exporter": "python",
      "pygments_lexer": "ipython3",
      "version": "3.9.13"
    }
  },
  "nbformat": 4,
  "nbformat_minor": 0
}
